{
 "cells": [
  {
   "cell_type": "code",
   "execution_count": 2,
   "metadata": {},
   "outputs": [],
   "source": [
    "import pandas as pd\n",
    "import numpy as np\n",
    "import datetime\n",
    "import pickle"
   ]
  },
  {
   "cell_type": "code",
   "execution_count": 39,
   "metadata": {},
   "outputs": [
    {
     "ename": "TypeError",
     "evalue": "'method' object is not iterable",
     "output_type": "error",
     "traceback": [
      "\u001b[1;31m---------------------------------------------------------------------------\u001b[0m",
      "\u001b[1;31mTypeError\u001b[0m                                 Traceback (most recent call last)",
      "Cell \u001b[1;32mIn[39], line 18\u001b[0m\n\u001b[0;32m      1\u001b[0m a \u001b[38;5;241m=\u001b[39m pd\u001b[38;5;241m.\u001b[39mDataFrame(\n\u001b[0;32m      2\u001b[0m     {\n\u001b[0;32m      3\u001b[0m         \u001b[38;5;124m'\u001b[39m\u001b[38;5;124ma\u001b[39m\u001b[38;5;124m'\u001b[39m: [\u001b[38;5;241m1\u001b[39m, \u001b[38;5;241m3\u001b[39m, \u001b[38;5;241m5\u001b[39m, \u001b[38;5;241m7\u001b[39m, \u001b[38;5;241m9\u001b[39m],\n\u001b[1;32m   (...)\u001b[0m\n\u001b[0;32m      6\u001b[0m     }\n\u001b[0;32m      7\u001b[0m )\n\u001b[0;32m      9\u001b[0m a_sec \u001b[38;5;241m=\u001b[39m pd\u001b[38;5;241m.\u001b[39mDataFrame(\n\u001b[0;32m     10\u001b[0m     {\n\u001b[0;32m     11\u001b[0m         \u001b[38;5;124m'\u001b[39m\u001b[38;5;124ma\u001b[39m\u001b[38;5;124m'\u001b[39m: [np\u001b[38;5;241m.\u001b[39mnan, np\u001b[38;5;241m.\u001b[39mnan, np\u001b[38;5;241m.\u001b[39mnan],\n\u001b[1;32m   (...)\u001b[0m\n\u001b[0;32m     14\u001b[0m     }\n\u001b[0;32m     15\u001b[0m )\n\u001b[1;32m---> 18\u001b[0m \u001b[38;5;28;01mfor\u001b[39;00m i \u001b[38;5;129;01min\u001b[39;00m a\u001b[38;5;241m.\u001b[39mkeys:\n\u001b[0;32m     19\u001b[0m     \u001b[38;5;28mprint\u001b[39m(i)\n",
      "\u001b[1;31mTypeError\u001b[0m: 'method' object is not iterable"
     ]
    }
   ],
   "source": [
    "a = pd.DataFrame(\n",
    "    {\n",
    "        'a': [1, 3, 5, 7, 9],\n",
    "        'b': [2, 4, 6, 8, 10],\n",
    "        'c': [1, 2, 3, 4 ,5]\n",
    "    }\n",
    ")\n",
    "\n",
    "a_sec = pd.DataFrame(\n",
    "    {\n",
    "        'a': [np.nan, np.nan, np.nan],\n",
    "        'b': [np.nan, np.nan, np.nan],\n",
    "        'c': [1, 2, 3]\n",
    "    }\n",
    ")\n",
    "\n",
    "for i in a.keys:\n",
    "    print(i)"
   ]
  },
  {
   "cell_type": "code",
   "execution_count": 12,
   "metadata": {},
   "outputs": [
    {
     "data": {
      "text/plain": [
       "dict_keys(['administration_expense_ttm', 'asset_impairment_loss_ttm', 'cash_flow_to_price_ratio', 'circulating_market_cap', 'EBIT', 'EBITDA', 'financial_assets', 'financial_expense_ttm', 'financial_liability', 'goods_sale_and_service_render_cash_ttm', 'gross_profit_ttm', 'interest_carry_current_liability', 'interest_free_current_liability', 'market_cap', 'net_debt', 'net_finance_cash_flow_ttm', 'net_interest_expense', 'net_invest_cash_flow_ttm', 'net_operate_cash_flow_ttm', 'net_profit_ttm', 'net_working_capital', 'non_operating_net_profit_ttm', 'non_recurring_gain_loss', 'np_parent_company_owners_ttm', 'OperateNetIncome', 'operating_assets', 'operating_cost_ttm', 'operating_liability', 'operating_profit_ttm', 'operating_revenue_ttm', 'retained_earnings', 'sales_to_price_ratio', 'sale_expense_ttm', 'total_operating_cost_ttm', 'total_operating_revenue_ttm', 'total_profit_ttm', 'value_change_profit_ttm', 'AR', 'ARBR', 'ATR14', 'ATR6', 'BR', 'DAVOL10', 'DAVOL20', 'DAVOL5', 'MAWVAD', 'money_flow_20', 'PSY', 'turnover_volatility', 'TVMA20', 'TVMA6', 'TVSTD20', 'TVSTD6', 'VDEA', 'VDIFF', 'VEMA10', 'VEMA12', 'VEMA26', 'VEMA5', 'VMACD', 'VOL10', 'VOL120', 'VOL20', 'VOL240', 'VOL5', 'VOL60', 'VOSC', 'VR', 'VROC12', 'VROC6', 'VSTD10', 'VSTD20', 'WVAD', 'financing_cash_growth_rate', 'net_asset_growth_rate', 'net_operate_cashflow_growth_rate', 'net_profit_growth_rate', 'np_parent_company_owners_growth_rate', 'operating_revenue_growth_rate', 'PEG', 'total_asset_growth_rate', 'total_profit_growth_rate', 'arron_down_25', 'arron_up_25', 'BBIC', 'bear_power', 'BIAS10', 'BIAS20', 'BIAS5', 'BIAS60', 'bull_power', 'CCI10', 'CCI15', 'CCI20', 'CCI88', 'CR20', 'fifty_two_week_close_rank', 'MASS', 'PLRC12', 'PLRC24', 'PLRC6', 'Price1M', 'Price1Y', 'Price3M', 'Rank1M', 'ROC12', 'ROC120', 'ROC20', 'ROC6', 'ROC60', 'single_day_VPT', 'single_day_VPT_12', 'single_day_VPT_6', 'TRIX10', 'TRIX5', 'Volume1M', 'capital_reserve_fund_per_share', 'cashflow_per_share_ttm', 'cash_and_equivalents_per_share', 'eps_ttm', 'net_asset_per_share', 'net_operate_cash_flow_per_share', 'operating_profit_per_share', 'operating_profit_per_share_ttm', 'operating_revenue_per_share', 'operating_revenue_per_share_ttm', 'retained_earnings_per_share', 'retained_profit_per_share', 'surplus_reserve_fund_per_share', 'total_operating_revenue_per_share', 'total_operating_revenue_per_share_ttm', 'ACCA', 'accounts_payable_turnover_days', 'accounts_payable_turnover_rate', 'account_receivable_turnover_days', 'account_receivable_turnover_rate', 'adjusted_profit_to_total_profit', 'admin_expense_rate', 'asset_turnover_ttm', 'cash_rate_of_sales', 'cash_to_current_liability', 'cfo_to_ev', 'current_asset_turnover_rate', 'current_ratio', 'debt_to_asset_ratio', 'debt_to_equity_ratio', 'debt_to_tangible_equity_ratio', 'DEGM', 'DEGM_8y', 'DSRI', 'equity_to_asset_ratio', 'equity_to_fixed_asset_ratio', 'equity_turnover_rate', 'financial_expense_rate', 'fixed_assets_turnover_rate', 'fixed_asset_ratio', 'GMI', 'goods_service_cash_to_operating_revenue_ttm', 'gross_income_ratio', 'intangible_asset_ratio', 'inventory_turnover_days', 'inventory_turnover_rate', 'invest_income_associates_to_total_profit', 'long_debt_to_asset_ratio', 'long_debt_to_working_capital_ratio', 'long_term_debt_to_asset_ratio', 'LVGI', 'margin_stability', 'maximum_margin', 'MLEV', 'net_non_operating_income_to_total_profit', 'net_operate_cash_flow_to_asset', 'net_operate_cash_flow_to_net_debt', 'net_operate_cash_flow_to_operate_income', 'net_operate_cash_flow_to_total_current_liability', 'net_operate_cash_flow_to_total_liability', 'net_operating_cash_flow_coverage', 'net_profit_ratio', 'net_profit_to_total_operate_revenue_ttm', 'non_current_asset_ratio', 'OperatingCycle', 'operating_cost_to_operating_revenue_ratio', 'operating_profit_growth_rate', 'operating_profit_ratio', 'operating_profit_to_operating_revenue', 'operating_profit_to_total_profit', 'operating_tax_to_operating_revenue_ratio_ttm', 'profit_margin_ttm', 'quick_ratio', 'rnoa_ttm', 'ROAEBITTTM', 'roa_ttm', 'roa_ttm_8y', 'roe_ttm', 'roe_ttm_8y', 'roic_ttm', 'sale_expense_to_operating_revenue', 'SGAI', 'SGI', 'super_quick_ratio', 'total_asset_turnover_rate', 'total_profit_to_cost_ratio', 'Kurtosis120', 'Kurtosis20', 'Kurtosis60', 'sharpe_ratio_120', 'sharpe_ratio_20', 'sharpe_ratio_60', 'Skewness120', 'Skewness20', 'Skewness60', 'Variance120', 'Variance20', 'Variance60', 'average_share_turnover_annual', 'average_share_turnover_quarterly', 'beta', 'book_leverage', 'book_to_price_ratio', 'cash_earnings_to_price_ratio', 'cube_of_size', 'cumulative_range', 'daily_standard_deviation', 'debt_to_assets', 'earnings_growth', 'earnings_to_price_ratio', 'earnings_yield', 'growth', 'historical_sigma', 'leverage', 'liquidity', 'long_term_predicted_earnings_growth', 'market_leverage', 'momentum', 'natural_log_of_market_cap', 'non_linear_size', 'predicted_earnings_to_price_ratio', 'raw_beta', 'relative_strength', 'residual_volatility', 'sales_growth', 'share_turnover_monthly', 'short_term_predicted_earnings_growth', 'size', 'boll_down', 'boll_up', 'EMA5', 'EMAC10', 'EMAC12', 'EMAC120', 'EMAC20', 'EMAC26', 'MAC10', 'MAC120', 'MAC20', 'MAC5', 'MAC60', 'MACDC', 'MFI14', 'price_no_fq'])"
      ]
     },
     "execution_count": 12,
     "metadata": {},
     "output_type": "execute_result"
    }
   ],
   "source": [
    "a = pickle.load(open(f'factors_data_train.pkl', 'rb+'))\n"
   ]
  },
  {
   "cell_type": "code",
   "execution_count": 24,
   "metadata": {},
   "outputs": [
    {
     "name": "stdout",
     "output_type": "stream",
     "text": [
      "average_share_turnover_annual\n",
      "average_share_turnover_quarterly\n",
      "book_leverage\n",
      "cash_earnings_to_price_ratio\n",
      "cube_of_size\n",
      "cumulative_range\n",
      "daily_standard_deviation\n",
      "debt_to_assets\n",
      "earnings_growth\n",
      "earnings_to_price_ratio\n",
      "historical_sigma\n",
      "long_term_predicted_earnings_growth\n",
      "market_leverage\n",
      "natural_log_of_market_cap\n",
      "predicted_earnings_to_price_ratio\n",
      "raw_beta\n",
      "relative_strength\n",
      "sales_growth\n",
      "share_turnover_monthly\n",
      "short_term_predicted_earnings_growth\n"
     ]
    }
   ],
   "source": []
  },
  {
   "cell_type": "code",
   "execution_count": 1,
   "metadata": {},
   "outputs": [],
   "source": [
    "import pickle\n",
    "FCF_discounted_model_params_data = pickle.load(open(f'FCF_discounted_model_params_data_train.pkl', 'rb+'))\n",
    "returns_data = pickle.load(open(f'returns_data_train.pkl', 'rb+'))"
   ]
  },
  {
   "cell_type": "code",
   "execution_count": 13,
   "metadata": {},
   "outputs": [
    {
     "name": "stdout",
     "output_type": "stream",
     "text": [
      "Fitting 5 folds for each of 1 candidates, totalling 5 fits\n",
      "Fitting 5 folds for each of 1 candidates, totalling 5 fits\n",
      "Fitting 5 folds for each of 1 candidates, totalling 5 fits\n",
      "Fitting 5 folds for each of 1 candidates, totalling 5 fits\n",
      "Fitting 5 folds for each of 1 candidates, totalling 5 fits\n",
      "Fitting 5 folds for each of 1 candidates, totalling 5 fits\n",
      "Fitting 5 folds for each of 1 candidates, totalling 5 fits\n",
      "Fitting 5 folds for each of 1 candidates, totalling 5 fits\n",
      "Fitting 5 folds for each of 1 candidates, totalling 5 fits\n",
      "Fitting 5 folds for each of 1 candidates, totalling 5 fits\n",
      "Fitting 5 folds for each of 1 candidates, totalling 5 fits\n",
      "Fitting 5 folds for each of 1 candidates, totalling 5 fits\n",
      "Fitting 5 folds for each of 1 candidates, totalling 5 fits\n",
      "Fitting 5 folds for each of 1 candidates, totalling 5 fits\n"
     ]
    },
    {
     "name": "stderr",
     "output_type": "stream",
     "text": [
      "d:\\Anaconda3\\Lib\\site-packages\\skopt\\optimizer\\optimizer.py:449: UserWarning: The objective has been evaluated at this point before.\n",
      "  warnings.warn(\"The objective has been evaluated \"\n"
     ]
    },
    {
     "name": "stdout",
     "output_type": "stream",
     "text": [
      "Fitting 5 folds for each of 1 candidates, totalling 5 fits\n"
     ]
    },
    {
     "name": "stderr",
     "output_type": "stream",
     "text": [
      "d:\\Anaconda3\\Lib\\site-packages\\skopt\\optimizer\\optimizer.py:449: UserWarning: The objective has been evaluated at this point before.\n",
      "  warnings.warn(\"The objective has been evaluated \"\n"
     ]
    },
    {
     "name": "stdout",
     "output_type": "stream",
     "text": [
      "Fitting 5 folds for each of 1 candidates, totalling 5 fits\n",
      "Fitting 5 folds for each of 1 candidates, totalling 5 fits\n",
      "Fitting 5 folds for each of 1 candidates, totalling 5 fits\n",
      "Fitting 5 folds for each of 1 candidates, totalling 5 fits\n",
      "Fitting 5 folds for each of 1 candidates, totalling 5 fits\n",
      "Fitting 5 folds for each of 1 candidates, totalling 5 fits\n",
      "Fitting 5 folds for each of 1 candidates, totalling 5 fits\n",
      "Fitting 5 folds for each of 1 candidates, totalling 5 fits\n",
      "Fitting 5 folds for each of 1 candidates, totalling 5 fits\n",
      "Fitting 5 folds for each of 1 candidates, totalling 5 fits\n",
      "Fitting 5 folds for each of 1 candidates, totalling 5 fits\n",
      "Fitting 5 folds for each of 1 candidates, totalling 5 fits\n",
      "Fitting 5 folds for each of 1 candidates, totalling 5 fits\n",
      "Fitting 5 folds for each of 1 candidates, totalling 5 fits\n",
      "Fitting 5 folds for each of 1 candidates, totalling 5 fits\n",
      "Fitting 5 folds for each of 1 candidates, totalling 5 fits\n",
      "Fitting 5 folds for each of 1 candidates, totalling 5 fits\n",
      "Fitting 5 folds for each of 1 candidates, totalling 5 fits\n",
      "Fitting 5 folds for each of 1 candidates, totalling 5 fits\n",
      "Fitting 5 folds for each of 1 candidates, totalling 5 fits\n",
      "Fitting 5 folds for each of 1 candidates, totalling 5 fits\n",
      "Fitting 5 folds for each of 1 candidates, totalling 5 fits\n",
      "Fitting 5 folds for each of 1 candidates, totalling 5 fits\n",
      "Fitting 5 folds for each of 1 candidates, totalling 5 fits\n",
      "Fitting 5 folds for each of 1 candidates, totalling 5 fits\n"
     ]
    }
   ],
   "source": []
  },
  {
   "cell_type": "code",
   "execution_count": 14,
   "metadata": {},
   "outputs": [
    {
     "data": {
      "text/plain": [
       "array([[0.5488135 , 0.71518937, 0.60276338, 0.54488318, 0.4236548 ],\n",
       "       [0.64589411, 0.43758721, 0.891773  , 0.96366276, 0.38344152],\n",
       "       [0.79172504, 0.52889492, 0.56804456, 0.92559664, 0.07103606],\n",
       "       [0.0871293 , 0.0202184 , 0.83261985, 0.77815675, 0.87001215],\n",
       "       [0.97861834, 0.79915856, 0.46147936, 0.78052918, 0.11827443],\n",
       "       [0.63992102, 0.14335329, 0.94466892, 0.52184832, 0.41466194],\n",
       "       [0.26455561, 0.77423369, 0.45615033, 0.56843395, 0.0187898 ],\n",
       "       [0.6176355 , 0.61209572, 0.616934  , 0.94374808, 0.6818203 ],\n",
       "       [0.3595079 , 0.43703195, 0.6976312 , 0.06022547, 0.66676672],\n",
       "       [0.67063787, 0.21038256, 0.1289263 , 0.31542835, 0.36371077],\n",
       "       [0.57019677, 0.43860151, 0.98837384, 0.10204481, 0.20887676],\n",
       "       [0.16130952, 0.65310833, 0.2532916 , 0.46631077, 0.24442559],\n",
       "       [0.15896958, 0.11037514, 0.65632959, 0.13818295, 0.19658236],\n",
       "       [0.36872517, 0.82099323, 0.09710128, 0.83794491, 0.09609841],\n",
       "       [0.97645947, 0.4686512 , 0.97676109, 0.60484552, 0.73926358],\n",
       "       [0.03918779, 0.28280696, 0.12019656, 0.2961402 , 0.11872772],\n",
       "       [0.31798318, 0.41426299, 0.0641475 , 0.69247212, 0.56660145],\n",
       "       [0.26538949, 0.52324805, 0.09394051, 0.5759465 , 0.9292962 ],\n",
       "       [0.31856895, 0.66741038, 0.13179786, 0.7163272 , 0.28940609],\n",
       "       [0.18319136, 0.58651293, 0.02010755, 0.82894003, 0.00469548],\n",
       "       [0.67781654, 0.27000797, 0.73519402, 0.96218855, 0.24875314],\n",
       "       [0.57615733, 0.59204193, 0.57225191, 0.22308163, 0.95274901],\n",
       "       [0.44712538, 0.84640867, 0.69947928, 0.29743695, 0.81379782],\n",
       "       [0.39650574, 0.8811032 , 0.58127287, 0.88173536, 0.69253159],\n",
       "       [0.72525428, 0.50132438, 0.95608363, 0.6439902 , 0.42385505],\n",
       "       [0.60639321, 0.0191932 , 0.30157482, 0.66017354, 0.29007761],\n",
       "       [0.61801543, 0.4287687 , 0.13547406, 0.29828233, 0.56996491],\n",
       "       [0.59087276, 0.57432525, 0.65320082, 0.65210327, 0.43141844],\n",
       "       [0.8965466 , 0.36756187, 0.43586493, 0.89192336, 0.80619399],\n",
       "       [0.70388858, 0.10022689, 0.91948261, 0.7142413 , 0.99884701],\n",
       "       [0.1494483 , 0.86812606, 0.16249293, 0.61555956, 0.12381998],\n",
       "       [0.84800823, 0.80731896, 0.56910074, 0.4071833 , 0.069167  ],\n",
       "       [0.69742877, 0.45354268, 0.7220556 , 0.86638233, 0.97552151],\n",
       "       [0.85580334, 0.01171408, 0.35997806, 0.72999056, 0.17162968],\n",
       "       [0.52103661, 0.05433799, 0.19999652, 0.01852179, 0.7936977 ],\n",
       "       [0.22392469, 0.34535168, 0.92808129, 0.7044144 , 0.03183893],\n",
       "       [0.16469416, 0.6214784 , 0.57722859, 0.23789282, 0.934214  ],\n",
       "       [0.61396596, 0.5356328 , 0.58990998, 0.73012203, 0.311945  ],\n",
       "       [0.39822106, 0.20984375, 0.18619301, 0.94437239, 0.7395508 ],\n",
       "       [0.49045881, 0.22741463, 0.25435648, 0.05802916, 0.43441663],\n",
       "       [0.31179588, 0.69634349, 0.37775184, 0.17960368, 0.02467873],\n",
       "       [0.06724963, 0.67939277, 0.45369684, 0.53657921, 0.89667129],\n",
       "       [0.99033895, 0.21689698, 0.6630782 , 0.26332238, 0.020651  ],\n",
       "       [0.75837865, 0.32001715, 0.38346389, 0.58831711, 0.83104846],\n",
       "       [0.62898184, 0.87265066, 0.27354203, 0.79804683, 0.18563594],\n",
       "       [0.95279166, 0.68748828, 0.21550768, 0.94737059, 0.73085581],\n",
       "       [0.25394164, 0.21331198, 0.51820071, 0.02566272, 0.20747008],\n",
       "       [0.42468547, 0.37416998, 0.46357542, 0.27762871, 0.58678435],\n",
       "       [0.86385561, 0.11753186, 0.51737911, 0.13206811, 0.71685968],\n",
       "       [0.3960597 , 0.56542131, 0.18327984, 0.14484776, 0.48805628],\n",
       "       [0.35561274, 0.94043195, 0.76532525, 0.74866362, 0.90371974],\n",
       "       [0.08342244, 0.55219247, 0.58447607, 0.96193638, 0.29214753],\n",
       "       [0.24082878, 0.10029394, 0.01642963, 0.92952932, 0.66991655],\n",
       "       [0.78515291, 0.28173011, 0.58641017, 0.06395527, 0.4856276 ],\n",
       "       [0.97749514, 0.87650525, 0.33815895, 0.96157015, 0.23170163],\n",
       "       [0.94931882, 0.9413777 , 0.79920259, 0.63044794, 0.87428797],\n",
       "       [0.29302028, 0.84894356, 0.61787669, 0.01323686, 0.34723352],\n",
       "       [0.14814086, 0.98182939, 0.47837031, 0.49739137, 0.63947252],\n",
       "       [0.36858461, 0.13690027, 0.82211773, 0.18984791, 0.51131898],\n",
       "       [0.22431703, 0.09784448, 0.86219152, 0.97291949, 0.96083466],\n",
       "       [0.9065555 , 0.77404733, 0.33314515, 0.08110139, 0.40724117],\n",
       "       [0.23223414, 0.13248763, 0.05342718, 0.72559436, 0.01142746],\n",
       "       [0.77058075, 0.14694665, 0.07952208, 0.08960303, 0.67204781],\n",
       "       [0.24536721, 0.42053947, 0.55736879, 0.86055117, 0.72704426],\n",
       "       [0.27032791, 0.1314828 , 0.05537432, 0.30159863, 0.26211815],\n",
       "       [0.45614057, 0.68328134, 0.69562545, 0.28351885, 0.37992696],\n",
       "       [0.18115096, 0.78854551, 0.05684808, 0.69699724, 0.7786954 ],\n",
       "       [0.77740756, 0.25942256, 0.37381314, 0.58759964, 0.2728219 ],\n",
       "       [0.3708528 , 0.19705428, 0.45985588, 0.0446123 , 0.79979588],\n",
       "       [0.07695645, 0.51883515, 0.3068101 , 0.57754295, 0.95943334],\n",
       "       [0.64557024, 0.03536244, 0.43040244, 0.51001685, 0.53617749],\n",
       "       [0.68139251, 0.2775961 , 0.12886057, 0.39267568, 0.95640572],\n",
       "       [0.18713089, 0.90398395, 0.54380595, 0.45691142, 0.88204141],\n",
       "       [0.45860396, 0.72416764, 0.39902532, 0.90404439, 0.69002502],\n",
       "       [0.69962205, 0.3277204 , 0.75677864, 0.63606106, 0.24002027],\n",
       "       [0.16053882, 0.79639147, 0.9591666 , 0.45813883, 0.59098417],\n",
       "       [0.85772264, 0.45722345, 0.95187448, 0.57575116, 0.82076712],\n",
       "       [0.90884372, 0.81552382, 0.15941446, 0.62889844, 0.39843426],\n",
       "       [0.06271295, 0.42403225, 0.25868407, 0.84903831, 0.03330463],\n",
       "       [0.95898272, 0.35536885, 0.35670689, 0.0163285 , 0.18523233],\n",
       "       [0.4012595 , 0.92929142, 0.09961493, 0.94530153, 0.86948853],\n",
       "       [0.4541624 , 0.32670088, 0.23274413, 0.61446471, 0.03307459],\n",
       "       [0.01560606, 0.42879572, 0.06807407, 0.25194099, 0.22116092],\n",
       "       [0.25319119, 0.13105523, 0.01203622, 0.1154843 , 0.61848026],\n",
       "       [0.97425621, 0.990345  , 0.4090541 , 0.16295443, 0.63876176],\n",
       "       [0.49030535, 0.98940978, 0.06530421, 0.78323444, 0.2883985 ],\n",
       "       [0.24141862, 0.66250457, 0.24606318, 0.66585912, 0.51730852],\n",
       "       [0.42408899, 0.55468781, 0.28705152, 0.70657471, 0.41485687],\n",
       "       [0.36054556, 0.82865691, 0.92496691, 0.04600731, 0.23262699],\n",
       "       [0.34851937, 0.81496648, 0.98549143, 0.9689717 , 0.90494835],\n",
       "       [0.29655627, 0.99201124, 0.24942004, 0.10590615, 0.95095261],\n",
       "       [0.23342026, 0.68976827, 0.05835636, 0.7307091 , 0.88172021],\n",
       "       [0.2724369 , 0.3790569 , 0.37429618, 0.74878826, 0.23780724],\n",
       "       [0.1718531 , 0.44929165, 0.30446841, 0.83918912, 0.23774183],\n",
       "       [0.50238946, 0.9425836 , 0.6339977 , 0.86728941, 0.94020969],\n",
       "       [0.75076486, 0.69957506, 0.96796557, 0.99440079, 0.45182168],\n",
       "       [0.07086978, 0.29279403, 0.15235471, 0.41748637, 0.13128933],\n",
       "       [0.6041178 , 0.38280806, 0.89538588, 0.96779467, 0.5468849 ],\n",
       "       [0.27482357, 0.59223042, 0.89676116, 0.40673335, 0.55207828],\n",
       "       [0.27165277, 0.45544415, 0.40171354, 0.24841347, 0.50586638]])"
      ]
     },
     "execution_count": 14,
     "metadata": {},
     "output_type": "execute_result"
    }
   ],
   "source": [
    "predicted_values"
   ]
  },
  {
   "cell_type": "code",
   "execution_count": 12,
   "metadata": {},
   "outputs": [
    {
     "data": {
      "text/plain": [
       "0     1\n",
       "1     0\n",
       "2     1\n",
       "3     0\n",
       "4     0\n",
       "     ..\n",
       "95    1\n",
       "96    0\n",
       "97    0\n",
       "98    0\n",
       "99    0\n",
       "Name: Target, Length: 100, dtype: int32"
      ]
     },
     "execution_count": 12,
     "metadata": {},
     "output_type": "execute_result"
    }
   ],
   "source": [
    "y"
   ]
  },
  {
   "cell_type": "code",
   "execution_count": 1,
   "metadata": {},
   "outputs": [],
   "source": [
    "import pandas as pd\n",
    "\n",
    "# 创建示例 DataFrame\n",
    "df1 = pd.DataFrame({'A': [1, 2, 3]}, index=[0, 1, 2])\n",
    "df2 = pd.DataFrame({'B': [4, 5, 6]}, index=[0, 1, 2])\n",
    "\n",
    "# 执行运算操作\n",
    "result = df1 - df2\n"
   ]
  },
  {
   "cell_type": "code",
   "execution_count": 15,
   "metadata": {},
   "outputs": [
    {
     "data": {
      "text/plain": [
       "1"
      ]
     },
     "execution_count": 15,
     "metadata": {},
     "output_type": "execute_result"
    }
   ],
   "source": [
    "len((5,))\n"
   ]
  },
  {
   "cell_type": "code",
   "execution_count": 14,
   "metadata": {},
   "outputs": [
    {
     "data": {
      "text/html": [
       "<div>\n",
       "<style scoped>\n",
       "    .dataframe tbody tr th:only-of-type {\n",
       "        vertical-align: middle;\n",
       "    }\n",
       "\n",
       "    .dataframe tbody tr th {\n",
       "        vertical-align: top;\n",
       "    }\n",
       "\n",
       "    .dataframe thead th {\n",
       "        text-align: right;\n",
       "    }\n",
       "</style>\n",
       "<table border=\"1\" class=\"dataframe\">\n",
       "  <thead>\n",
       "    <tr style=\"text-align: right;\">\n",
       "      <th></th>\n",
       "      <th>0</th>\n",
       "    </tr>\n",
       "  </thead>\n",
       "  <tbody>\n",
       "    <tr>\n",
       "      <th>2019-01-02</th>\n",
       "      <td>0.052310</td>\n",
       "    </tr>\n",
       "    <tr>\n",
       "      <th>2019-01-03</th>\n",
       "      <td>0.045131</td>\n",
       "    </tr>\n",
       "    <tr>\n",
       "      <th>2019-01-04</th>\n",
       "      <td>0.027715</td>\n",
       "    </tr>\n",
       "    <tr>\n",
       "      <th>2019-01-07</th>\n",
       "      <td>0.033611</td>\n",
       "    </tr>\n",
       "    <tr>\n",
       "      <th>2019-01-08</th>\n",
       "      <td>0.050442</td>\n",
       "    </tr>\n",
       "    <tr>\n",
       "      <th>...</th>\n",
       "      <td>...</td>\n",
       "    </tr>\n",
       "    <tr>\n",
       "      <th>2022-12-26</th>\n",
       "      <td>0.066467</td>\n",
       "    </tr>\n",
       "    <tr>\n",
       "      <th>2022-12-27</th>\n",
       "      <td>0.051719</td>\n",
       "    </tr>\n",
       "    <tr>\n",
       "      <th>2022-12-28</th>\n",
       "      <td>0.063976</td>\n",
       "    </tr>\n",
       "    <tr>\n",
       "      <th>2022-12-29</th>\n",
       "      <td>0.068962</td>\n",
       "    </tr>\n",
       "    <tr>\n",
       "      <th>2022-12-30</th>\n",
       "      <td>0.056373</td>\n",
       "    </tr>\n",
       "  </tbody>\n",
       "</table>\n",
       "<p>972 rows × 1 columns</p>\n",
       "</div>"
      ],
      "text/plain": [
       "                   0\n",
       "2019-01-02  0.052310\n",
       "2019-01-03  0.045131\n",
       "2019-01-04  0.027715\n",
       "2019-01-07  0.033611\n",
       "2019-01-08  0.050442\n",
       "...              ...\n",
       "2022-12-26  0.066467\n",
       "2022-12-27  0.051719\n",
       "2022-12-28  0.063976\n",
       "2022-12-29  0.068962\n",
       "2022-12-30  0.056373\n",
       "\n",
       "[972 rows x 1 columns]"
      ]
     },
     "execution_count": 14,
     "metadata": {},
     "output_type": "execute_result"
    }
   ],
   "source": [
    "a['market_returns']"
   ]
  },
  {
   "cell_type": "code",
   "execution_count": 44,
   "metadata": {},
   "outputs": [
    {
     "data": {
      "text/plain": [
       "False"
      ]
     },
     "execution_count": 44,
     "metadata": {},
     "output_type": "execute_result"
    }
   ],
   "source": [
    "'stat_year' not in macro_data.keys()"
   ]
  },
  {
   "cell_type": "code",
   "execution_count": 49,
   "metadata": {},
   "outputs": [],
   "source": [
    "factors_risks_data = pd.read_csv('factors_risks_data.csv', names=['factor_name', 'factor_code', 'risk'])"
   ]
  },
  {
   "cell_type": "code",
   "execution_count": 51,
   "metadata": {},
   "outputs": [
    {
     "data": {
      "text/plain": [
       "'Market Risk'"
      ]
     },
     "execution_count": 51,
     "metadata": {},
     "output_type": "execute_result"
    }
   ],
   "source": [
    "factors_risks_data = factors_risks_data.set_index('factor_code')\n",
    "factors_risks_data.loc['size', 'risk']"
   ]
  },
  {
   "cell_type": "code",
   "execution_count": 4,
   "metadata": {},
   "outputs": [],
   "source": []
  },
  {
   "cell_type": "code",
   "execution_count": null,
   "metadata": {},
   "outputs": [],
   "source": []
  },
  {
   "cell_type": "code",
   "execution_count": 1,
   "metadata": {},
   "outputs": [
    {
     "name": "stdout",
     "output_type": "stream",
     "text": [
      "2015-03-31\n"
     ]
    }
   ],
   "source": []
  },
  {
   "cell_type": "code",
   "execution_count": null,
   "metadata": {},
   "outputs": [],
   "source": []
  }
 ],
 "metadata": {
  "kernelspec": {
   "display_name": "base",
   "language": "python",
   "name": "python3"
  },
  "language_info": {
   "codemirror_mode": {
    "name": "ipython",
    "version": 3
   },
   "file_extension": ".py",
   "mimetype": "text/x-python",
   "name": "python",
   "nbconvert_exporter": "python",
   "pygments_lexer": "ipython3",
   "version": "3.11.7"
  }
 },
 "nbformat": 4,
 "nbformat_minor": 2
}
